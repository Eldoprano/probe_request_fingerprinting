{
 "cells": [
  {
   "cell_type": "code",
   "execution_count": null,
   "metadata": {},
   "outputs": [
    {
     "name": "stderr",
     "output_type": "stream",
     "text": [
      "100%|██████████| 3061/3061 [00:00<00:00, 9039.37it/s] "
     ]
    },
    {
     "name": "stdout",
     "output_type": "stream",
     "text": [
      "Identifiers | Count\n",
      "-------------------\n",
      "798a9b3a     | 1281\n",
      "cad4d432     | 79\n",
      "dcb2595c     | 203\n",
      "085f9247     | 32\n",
      "482682a1     | 40\n",
      "4cc2f4e7     | 18\n",
      "edc00d12     | 179\n",
      "733b8f8d     | 112\n",
      "a1e2f7a9     | 20\n",
      "7f35be3e     | 16\n",
      "d48effde     | 456\n",
      "8ce97f0a     | 9\n",
      "44b98444     | 42\n",
      "be438e18     | 21\n",
      "802c87a6     | 134\n",
      "7d259feb     | 3\n",
      "1b24af1c     | 101\n",
      "2bd057af     | 297\n",
      "07625c80     | 18\n"
     ]
    },
    {
     "name": "stderr",
     "output_type": "stream",
     "text": [
      "\n"
     ]
    }
   ],
   "source": [
    "from scapy.all import rdpcap, Dot11ProbeReq\n",
    "from analyzer import BitAnalyzer\n",
    "from tqdm import tqdm\n",
    "\n",
    "# Load the pcap file\n",
    "packets = rdpcap('pcaps/chamber.pcap')\n",
    "\n",
    "# Create a new instance of the ProbeRequestAnalyzer class\n",
    "analyzer = BitAnalyzer()\n",
    "\n",
    "identifiers = {}\n",
    "# Loop through each packet\n",
    "for packet in tqdm(packets):\n",
    "    # Check if the packet is a ProbeRequest\n",
    "    if packet.haslayer(Dot11ProbeReq):\n",
    "        # Get the identifier from the packet\n",
    "        identifier = analyzer.get_id(packet)\n",
    "        # Count how many times the identifier has been seen\n",
    "        if identifier in identifiers:\n",
    "            identifiers[identifier] += 1\n",
    "        else:\n",
    "            identifiers[identifier] = 1\n",
    "\n",
    "# Print statistics\n",
    "print(\"Identifiers | Count\")\n",
    "print(\"-------------------\")\n",
    "for identifier in identifiers:\n",
    "    print(f'{identifier:12} | {identifiers[identifier]}')"
   ]
  },
  {
   "cell_type": "code",
   "execution_count": null,
   "metadata": {},
   "outputs": [],
   "source": []
  }
 ],
 "metadata": {
  "kernelspec": {
   "display_name": ".venv",
   "language": "python",
   "name": "python3"
  },
  "language_info": {
   "codemirror_mode": {
    "name": "ipython",
    "version": 3
   },
   "file_extension": ".py",
   "mimetype": "text/x-python",
   "name": "python",
   "nbconvert_exporter": "python",
   "pygments_lexer": "ipython3",
   "version": "3.11.2"
  }
 },
 "nbformat": 4,
 "nbformat_minor": 2
}
